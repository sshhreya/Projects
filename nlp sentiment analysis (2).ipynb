{
 "cells": [
  {
   "cell_type": "code",
   "execution_count": 2,
   "id": "59996d3a",
   "metadata": {},
   "outputs": [
    {
     "data": {
      "text/html": [
       "<div>\n",
       "<style scoped>\n",
       "    .dataframe tbody tr th:only-of-type {\n",
       "        vertical-align: middle;\n",
       "    }\n",
       "\n",
       "    .dataframe tbody tr th {\n",
       "        vertical-align: top;\n",
       "    }\n",
       "\n",
       "    .dataframe thead th {\n",
       "        text-align: right;\n",
       "    }\n",
       "</style>\n",
       "<table border=\"1\" class=\"dataframe\">\n",
       "  <thead>\n",
       "    <tr style=\"text-align: right;\">\n",
       "      <th></th>\n",
       "      <th>Review</th>\n",
       "      <th>Rating</th>\n",
       "    </tr>\n",
       "  </thead>\n",
       "  <tbody>\n",
       "    <tr>\n",
       "      <th>0</th>\n",
       "      <td>nice hotel expensive parking got good deal sta...</td>\n",
       "      <td>4</td>\n",
       "    </tr>\n",
       "    <tr>\n",
       "      <th>1</th>\n",
       "      <td>ok nothing special charge diamond member hilto...</td>\n",
       "      <td>2</td>\n",
       "    </tr>\n",
       "    <tr>\n",
       "      <th>2</th>\n",
       "      <td>nice rooms not 4* experience hotel monaco seat...</td>\n",
       "      <td>3</td>\n",
       "    </tr>\n",
       "    <tr>\n",
       "      <th>3</th>\n",
       "      <td>unique, great stay, wonderful time hotel monac...</td>\n",
       "      <td>5</td>\n",
       "    </tr>\n",
       "    <tr>\n",
       "      <th>4</th>\n",
       "      <td>great stay great stay, went seahawk game aweso...</td>\n",
       "      <td>5</td>\n",
       "    </tr>\n",
       "  </tbody>\n",
       "</table>\n",
       "</div>"
      ],
      "text/plain": [
       "                                              Review  Rating\n",
       "0  nice hotel expensive parking got good deal sta...       4\n",
       "1  ok nothing special charge diamond member hilto...       2\n",
       "2  nice rooms not 4* experience hotel monaco seat...       3\n",
       "3  unique, great stay, wonderful time hotel monac...       5\n",
       "4  great stay great stay, went seahawk game aweso...       5"
      ]
     },
     "execution_count": 2,
     "metadata": {},
     "output_type": "execute_result"
    }
   ],
   "source": [
    "import pandas as pd\n",
    "df = pd.read_csv('tripadvisor_hotel_reviews.csv')\n",
    "df.head()"
   ]
  },
  {
   "cell_type": "code",
   "execution_count": 2,
   "id": "b1da6e2b",
   "metadata": {},
   "outputs": [
    {
     "data": {
      "text/plain": [
       "20491"
      ]
     },
     "execution_count": 2,
     "metadata": {},
     "output_type": "execute_result"
    }
   ],
   "source": [
    "len(df.index)"
   ]
  },
  {
   "cell_type": "code",
   "execution_count": 3,
   "id": "d9dd1038",
   "metadata": {},
   "outputs": [],
   "source": [
    "#Data Preprocessing\n",
    "import numpy as np\n",
    "\n",
    "def create_sentiment(rating):\n",
    "    \n",
    "    if rating==1 or rating==2:\n",
    "        return -1 # negative sentiment\n",
    "    elif rating==4 or rating==5:\n",
    "        return 1 # positive sentiment\n",
    "    else:\n",
    "        return 0 # neutral sentiment\n",
    "\n",
    "df['Sentiment'] = df['Rating'].apply(create_sentiment)"
   ]
  },
  {
   "cell_type": "code",
   "execution_count": 4,
   "id": "29733aad",
   "metadata": {},
   "outputs": [
    {
     "data": {
      "text/html": [
       "<div>\n",
       "<style scoped>\n",
       "    .dataframe tbody tr th:only-of-type {\n",
       "        vertical-align: middle;\n",
       "    }\n",
       "\n",
       "    .dataframe tbody tr th {\n",
       "        vertical-align: top;\n",
       "    }\n",
       "\n",
       "    .dataframe thead th {\n",
       "        text-align: right;\n",
       "    }\n",
       "</style>\n",
       "<table border=\"1\" class=\"dataframe\">\n",
       "  <thead>\n",
       "    <tr style=\"text-align: right;\">\n",
       "      <th></th>\n",
       "      <th>Review</th>\n",
       "      <th>Rating</th>\n",
       "      <th>Sentiment</th>\n",
       "    </tr>\n",
       "  </thead>\n",
       "  <tbody>\n",
       "    <tr>\n",
       "      <th>0</th>\n",
       "      <td>nice hotel expensive parking got good deal sta...</td>\n",
       "      <td>4</td>\n",
       "      <td>1</td>\n",
       "    </tr>\n",
       "    <tr>\n",
       "      <th>1</th>\n",
       "      <td>ok nothing special charge diamond member hilto...</td>\n",
       "      <td>2</td>\n",
       "      <td>-1</td>\n",
       "    </tr>\n",
       "    <tr>\n",
       "      <th>2</th>\n",
       "      <td>nice rooms not 4* experience hotel monaco seat...</td>\n",
       "      <td>3</td>\n",
       "      <td>0</td>\n",
       "    </tr>\n",
       "    <tr>\n",
       "      <th>3</th>\n",
       "      <td>unique, great stay, wonderful time hotel monac...</td>\n",
       "      <td>5</td>\n",
       "      <td>1</td>\n",
       "    </tr>\n",
       "    <tr>\n",
       "      <th>4</th>\n",
       "      <td>great stay great stay, went seahawk game aweso...</td>\n",
       "      <td>5</td>\n",
       "      <td>1</td>\n",
       "    </tr>\n",
       "  </tbody>\n",
       "</table>\n",
       "</div>"
      ],
      "text/plain": [
       "                                              Review  Rating  Sentiment\n",
       "0  nice hotel expensive parking got good deal sta...       4          1\n",
       "1  ok nothing special charge diamond member hilto...       2         -1\n",
       "2  nice rooms not 4* experience hotel monaco seat...       3          0\n",
       "3  unique, great stay, wonderful time hotel monac...       5          1\n",
       "4  great stay great stay, went seahawk game aweso...       5          1"
      ]
     },
     "execution_count": 4,
     "metadata": {},
     "output_type": "execute_result"
    }
   ],
   "source": [
    "df.head()"
   ]
  },
  {
   "cell_type": "code",
   "execution_count": 4,
   "id": "f733f9bf",
   "metadata": {},
   "outputs": [],
   "source": [
    "from sklearn.feature_extraction.text import re\n",
    "\n",
    "def clean_data(review):\n",
    "    \n",
    "    no_punc = re.sub(r'[^\\w\\s]', '', review)\n",
    "    no_digits = ''.join([i for i in no_punc if not i.isdigit()])\n",
    "    \n",
    "    return(no_digits)"
   ]
  },
  {
   "cell_type": "code",
   "execution_count": 7,
   "id": "4ac8ec04",
   "metadata": {},
   "outputs": [],
   "source": [
    "#we need to preprocess the “Review” column in order to remove punctuation, characters, and digits. \n",
    "#import re. The re module is a built-in module in Python for regular expressions,\n",
    "#In this example, CountVectorizer is used to convert a list of documents\n",
    "#into a matrix of word counts. The resulting matrix is a sparse matrix where rows represent documents,\n",
    "#columns represent unique words, and the values represent the word counts in each document.\n",
    "from sklearn.feature_extraction.text import re\n",
    "\n",
    "def clean_data(review):\n",
    "    \n",
    "    no_punc = re.sub(r'[^\\w\\s]', '', review)\n",
    "#This line of code is using a list comprehension to iterate over each character (i) in the no_punc \n",
    "#string and include only those characters that are not digits (checked using isdigit()). \n",
    "#The characters are then joined back into a string using ''.join().\n",
    "    no_digits = ''.join([i for i in no_punc if not i.isdigit()])\n",
    "    \n",
    "    return(no_digits)"
   ]
  },
  {
   "cell_type": "code",
   "execution_count": 8,
   "id": "829b40f8",
   "metadata": {},
   "outputs": [
    {
     "data": {
      "text/plain": [
       "'nice hotel expensive parking got good deal stay hotel anniversary, arrived late evening took advice previous reviews did valet parking, check quick easy, little disappointed non-existent view room room clean nice size, bed comfortable woke stiff neck high pillows, not soundproof like heard music room night morning loud bangs doors opening closing hear people talking hallway, maybe just noisy neighbors, aveda bath products nice, did not goldfish stay nice touch taken advantage staying longer, location great walking distance shopping, overall nice experience having pay 40 parking night,  '"
      ]
     },
     "execution_count": 8,
     "metadata": {},
     "output_type": "execute_result"
    }
   ],
   "source": [
    "df['Review'][0]"
   ]
  },
  {
   "cell_type": "code",
   "execution_count": 9,
   "id": "c52cec30",
   "metadata": {},
   "outputs": [
    {
     "data": {
      "text/plain": [
       "'nice hotel expensive parking got good deal stay hotel anniversary arrived late evening took advice previous reviews did valet parking check quick easy little disappointed nonexistent view room room clean nice size bed comfortable woke stiff neck high pillows not soundproof like heard music room night morning loud bangs doors opening closing hear people talking hallway maybe just noisy neighbors aveda bath products nice did not goldfish stay nice touch taken advantage staying longer location great walking distance shopping overall nice experience having pay  parking night  '"
      ]
     },
     "execution_count": 9,
     "metadata": {},
     "output_type": "execute_result"
    }
   ],
   "source": [
    "df['Review'] = df['Review'].apply(clean_data)\n",
    "df['Review'][0]"
   ]
  },
  {
   "cell_type": "code",
   "execution_count": 10,
   "id": "93f445be",
   "metadata": {},
   "outputs": [],
   "source": [
    " #how important a word is to a document in a collection or corpus.\n",
    "from sklearn.feature_extraction.text import TfidfVectorizer\n",
    "\n",
    "tfidf = TfidfVectorizer(strip_accents=None, #accents will not be removed i.e é, è, á\n",
    "                        lowercase=False,#all words will not be converted to lower case\n",
    "                        preprocessor=None)\n",
    "\n",
    "X = tfidf.fit_transform(df['Review'])"
   ]
  },
  {
   "cell_type": "code",
   "execution_count": 11,
   "id": "e8641d13",
   "metadata": {},
   "outputs": [],
   "source": [
    "from sklearn.model_selection import train_test_split#X: The features or input data.#y: The target variable or labels.\n",
    "y = df['Sentiment'] # target variable\n",
    "X_train, X_test, y_train, y_test = train_test_split(X,y)"
   ]
  },
  {
   "cell_type": "code",
   "execution_count": 12,
   "id": "aa492ce0",
   "metadata": {},
   "outputs": [],
   "source": [
    "from sklearn.linear_model import LogisticRegression#Logistic regression is a classification algorithm that is often used when the target variable is binary (two classes).\n",
    "lr = LogisticRegression(solver='liblinear')\n",
    "lr.fit(X_train,y_train) # fit the model\n",
    "preds = lr.predict(X_test) # make predictions"
   ]
  },
  {
   "cell_type": "code",
   "execution_count": 13,
   "id": "0535f832",
   "metadata": {},
   "outputs": [
    {
     "data": {
      "text/plain": [
       "0.8549677923091938"
      ]
     },
     "execution_count": 13,
     "metadata": {},
     "output_type": "execute_result"
    }
   ],
   "source": [
    "from sklearn.metrics import accuracy_score\n",
    "accuracy_score(preds,y_test) "
   ]
  },
  {
   "cell_type": "code",
   "execution_count": 14,
   "id": "a93e15f6",
   "metadata": {},
   "outputs": [
    {
     "name": "stdout",
     "output_type": "stream",
     "text": [
      "  (0, 12914)\t0.1753284192881434\n",
      "  (0, 30535)\t0.17769375450153893\n",
      "  (0, 53151)\t0.18347102567170948\n",
      "  (0, 11163)\t0.16955114811797287\n",
      "  (0, 44140)\t0.16032275631846515\n",
      "  (0, 13981)\t0.13689824962049935\n",
      "  (0, 439)\t0.13095704171695213\n",
      "  (0, 34534)\t0.139346057797104\n",
      "  (0, 12491)\t0.11516770941125695\n",
      "  (0, 30427)\t0.09943548157394375\n",
      "  (0, 17141)\t0.12139628358101663\n",
      "  (0, 65476)\t0.20502834813199325\n",
      "  (0, 70485)\t0.14300746451873028\n",
      "  (0, 39571)\t0.13897756785637957\n",
      "  (0, 53236)\t0.13047311135305106\n",
      "  (0, 34234)\t0.12035859911817097\n",
      "  (0, 67569)\t0.11561901241084606\n",
      "  (0, 66028)\t0.10490923857914658\n",
      "  (0, 1955)\t0.13689824962049935\n",
      "  (0, 69040)\t0.10251417406599662\n",
      "  (0, 60303)\t0.09663319556965393\n",
      "  (0, 61584)\t0.10825187450746923\n",
      "  (0, 10860)\t0.10464324610351851\n",
      "  (0, 50236)\t0.10857064530077287\n",
      "  (0, 35254)\t0.0956808467796389\n",
      "  :\t:\n",
      "  (5122, 58059)\t0.08642276962108336\n",
      "  (5122, 39192)\t0.0897850849607488\n",
      "  (5122, 63433)\t0.05436430919002246\n",
      "  (5122, 69115)\t0.10833980975430967\n",
      "  (5122, 25848)\t0.08078177367845328\n",
      "  (5122, 3531)\t0.07533220620392432\n",
      "  (5122, 23417)\t0.07348461615250935\n",
      "  (5122, 12206)\t0.1107950476426547\n",
      "  (5122, 9642)\t0.10731191412318732\n",
      "  (5122, 53697)\t0.07062113961219327\n",
      "  (5122, 50361)\t0.10581529625329217\n",
      "  (5122, 7385)\t0.07454633001000331\n",
      "  (5122, 6170)\t0.14925611704332978\n",
      "  (5122, 6826)\t0.2556502853090029\n",
      "  (5122, 65707)\t0.12632840724472752\n",
      "  (5122, 44503)\t0.06243080610139575\n",
      "  (5122, 60696)\t0.1004656074678846\n",
      "  (5122, 13184)\t0.05759775159578159\n",
      "  (5122, 56705)\t0.11987248413414554\n",
      "  (5122, 72275)\t0.08095938264339435\n",
      "  (5122, 38432)\t0.07362263558858162\n",
      "  (5122, 68275)\t0.09254577713437576\n",
      "  (5122, 28952)\t0.07525544136611728\n",
      "  (5122, 32231)\t0.07122248387048814\n",
      "  (5122, 44333)\t0.05848723034137449\n"
     ]
    }
   ],
   "source": [
    "df=print(X_test)"
   ]
  },
  {
   "cell_type": "code",
   "execution_count": 15,
   "id": "7cc8f483",
   "metadata": {},
   "outputs": [
    {
     "name": "stdout",
     "output_type": "stream",
     "text": [
      "[1 1 1 ... 1 1 1]\n"
     ]
    }
   ],
   "source": [
    "df1=print(preds)"
   ]
  },
  {
   "cell_type": "code",
   "execution_count": 16,
   "id": "9edb7b37",
   "metadata": {},
   "outputs": [
    {
     "name": "stdout",
     "output_type": "stream",
     "text": [
      "11966    1\n",
      "8418     1\n",
      "4833     1\n",
      "3415     0\n",
      "7538     1\n",
      "        ..\n",
      "19695    1\n",
      "9982     1\n",
      "2685     1\n",
      "3317    -1\n",
      "5952     1\n",
      "Name: Sentiment, Length: 5123, dtype: int64\n"
     ]
    }
   ],
   "source": [
    "df2=print(y_test)"
   ]
  },
  {
   "cell_type": "code",
   "execution_count": 17,
   "id": "bcf2d2da",
   "metadata": {},
   "outputs": [
    {
     "name": "stdout",
     "output_type": "stream",
     "text": [
      "  (0, 9164)\t0.14154898057322646\n",
      "  (0, 67176)\t0.12887633305077095\n",
      "  (0, 7871)\t0.1359412447106151\n",
      "  (0, 31304)\t0.14154898057322646\n",
      "  (0, 38132)\t0.13196249279717592\n",
      "  (0, 39213)\t0.1359412447106151\n",
      "  (0, 29209)\t0.13196249279717592\n",
      "  (0, 6769)\t0.14154898057322646\n",
      "  (0, 37643)\t0.09648827267320444\n",
      "  (0, 43294)\t0.09911664760871146\n",
      "  (0, 37199)\t0.09053038194656882\n",
      "  (0, 16088)\t0.12237600502112538\n",
      "  (0, 43030)\t0.12422279470593646\n",
      "  (0, 28959)\t0.11797166942512781\n",
      "  (0, 33676)\t0.12422279470593646\n",
      "  (0, 16748)\t0.08240106996775112\n",
      "  (0, 46168)\t0.12887633305077095\n",
      "  (0, 12874)\t0.08480787050097864\n",
      "  (0, 50045)\t0.08503838214322929\n",
      "  (0, 16472)\t0.07711724535906182\n",
      "  (0, 5330)\t0.08288982677718898\n",
      "  (0, 26105)\t0.10196365940743045\n",
      "  (0, 16410)\t0.09257617331466732\n",
      "  (0, 6856)\t0.09160861956371918\n",
      "  (0, 60875)\t0.11278951724507484\n",
      "  :\t:\n",
      "  (15367, 53697)\t0.040502238550716434\n",
      "  (15367, 49447)\t0.03686541881482052\n",
      "  (15367, 9996)\t0.0331840562920967\n",
      "  (15367, 44781)\t0.08737190333580394\n",
      "  (15367, 62622)\t0.04615768327079642\n",
      "  (15367, 57533)\t0.02822506460147872\n",
      "  (15367, 6170)\t0.021400132066825377\n",
      "  (15367, 58584)\t0.040145243641058294\n",
      "  (15367, 72875)\t0.05119886778509208\n",
      "  (15367, 29226)\t0.026958694192618874\n",
      "  (15367, 38679)\t0.03193695834248115\n",
      "  (15367, 44868)\t0.034331954822315464\n",
      "  (15367, 36197)\t0.04927071792383941\n",
      "  (15367, 40806)\t0.035545345390089654\n",
      "  (15367, 65749)\t0.04403701569395844\n",
      "  (15367, 20079)\t0.03792099266666844\n",
      "  (15367, 38141)\t0.05857222320995985\n",
      "  (15367, 45202)\t0.03805749264573548\n",
      "  (15367, 13184)\t0.016516569174100895\n",
      "  (15367, 56705)\t0.09166478998081502\n",
      "  (15367, 63407)\t0.014209447750497406\n",
      "  (15367, 17466)\t0.03149693341416399\n",
      "  (15367, 48260)\t0.09764379769629927\n",
      "  (15367, 32231)\t0.04084711812550536\n",
      "  (15367, 44333)\t0.01677163359629535\n"
     ]
    }
   ],
   "source": [
    "df3=print(X_train)"
   ]
  },
  {
   "cell_type": "code",
   "execution_count": 18,
   "id": "57dde0d3",
   "metadata": {},
   "outputs": [
    {
     "name": "stdout",
     "output_type": "stream",
     "text": [
      "11966    1\n",
      "8418     1\n",
      "4833     1\n",
      "3415     0\n",
      "7538     1\n",
      "        ..\n",
      "19695    1\n",
      "9982     1\n",
      "2685     1\n",
      "3317    -1\n",
      "5952     1\n",
      "Name: Sentiment, Length: 5123, dtype: int64\n"
     ]
    }
   ],
   "source": [
    "df3=print(y_test)"
   ]
  },
  {
   "cell_type": "code",
   "execution_count": 19,
   "id": "a9b8475e",
   "metadata": {},
   "outputs": [
    {
     "name": "stdout",
     "output_type": "stream",
     "text": [
      "6436     1\n",
      "12660   -1\n",
      "8380     1\n",
      "10409    1\n",
      "10365    1\n",
      "        ..\n",
      "7691     1\n",
      "14690    1\n",
      "3940     1\n",
      "15513   -1\n",
      "7814    -1\n",
      "Name: Sentiment, Length: 15368, dtype: int64\n"
     ]
    }
   ],
   "source": [
    "df4=print(y_train)"
   ]
  },
  {
   "cell_type": "code",
   "execution_count": 20,
   "id": "887b77e5",
   "metadata": {},
   "outputs": [
    {
     "name": "stdout",
     "output_type": "stream",
     "text": [
      "Predicted Sentiment: 1\n"
     ]
    }
   ],
   "source": [
    "# Example new input text\n",
    "new_input_text = \"I really enjoyed my stay at this hotel. The staff was friendly and the room was comfortable.\"\n",
    "\n",
    "# Clean the input text\n",
    "cleaned_text = clean_data(new_input_text)\n",
    "\n",
    "# Transform the cleaned text into TF-IDF features\n",
    "new_text_features = tfidf.transform([cleaned_text])\n",
    "\n",
    "# Make predictions\n",
    "new_pred = lr.predict(new_text_features)\n",
    "\n",
    "# Print the predicted sentiment\n",
    "print(\"Predicted Sentiment:\", new_pred[0])\n"
   ]
  },
  {
   "cell_type": "code",
   "execution_count": 21,
   "id": "4676fae6",
   "metadata": {},
   "outputs": [
    {
     "name": "stdout",
     "output_type": "stream",
     "text": [
      "Predicted Sentiment: -1\n"
     ]
    }
   ],
   "source": [
    "# Example new input text\n",
    "new_input_text = \"i am bad.\"\n",
    "\n",
    "# Clean the input text\n",
    "cleaned_text = clean_data(new_input_text)\n",
    "\n",
    "# Transform the cleaned text into TF-IDF features\n",
    "new_text_features = tfidf.transform([cleaned_text])\n",
    "\n",
    "# Make predictions\n",
    "new_pred = lr.predict(new_text_features)\n",
    "\n",
    "# Print the predicted sentiment\n",
    "print(\"Predicted Sentiment:\", new_pred[0])"
   ]
  },
  {
   "cell_type": "code",
   "execution_count": 22,
   "id": "13180e33",
   "metadata": {},
   "outputs": [
    {
     "name": "stdout",
     "output_type": "stream",
     "text": [
      "Predicted Sentiment: 1\n"
     ]
    }
   ],
   "source": [
    "# Example new input text\n",
    "new_input_text = 'Amazing experience'\n",
    "\n",
    "# Clean the input text\n",
    "cleaned_text = clean_data(new_input_text)\n",
    "\n",
    "# Transform the cleaned text into TF-IDF features\n",
    "new_text_features = tfidf.transform([cleaned_text])\n",
    "\n",
    "# Make predictions\n",
    "new_pred = lr.predict(new_text_features)\n",
    "\n",
    "# Print the predicted sentiment\n",
    "print(\"Predicted Sentiment:\", new_pred[0])"
   ]
  },
  {
   "cell_type": "code",
   "execution_count": 26,
   "id": "3c676396",
   "metadata": {},
   "outputs": [
    {
     "name": "stdout",
     "output_type": "stream",
     "text": [
      "Accuracy: 0.8594779214442547\n",
      "Predicted Sentiment: 1\n"
     ]
    }
   ],
   "source": [
    "import pandas as pd\n",
    "import numpy as np\n",
    "import re\n",
    "from sklearn.feature_extraction.text import TfidfVectorizer\n",
    "from sklearn.model_selection import train_test_split\n",
    "from sklearn.linear_model import LogisticRegression\n",
    "from sklearn.metrics import accuracy_score\n",
    "\n",
    "df = pd.read_csv('tripadvisor_hotel_reviews.csv')\n",
    "\n",
    "def create_sentiment(rating):\n",
    "    res = 0  # neutral sentiment\n",
    "    if rating == 1 or rating == 2:\n",
    "        res = -1  # negative sentiment\n",
    "    elif rating == 4 or rating == 5:\n",
    "        res = 1  # positive sentiment\n",
    "    return res\n",
    "\n",
    "df['Sentiment'] = df['Rating'].apply(create_sentiment)\n",
    "\n",
    "def clean_data(review):\n",
    "    no_punc = re.sub(r'[^\\w\\s]', '', review)\n",
    "    no_digits = ''.join([i for i in no_punc if not i.isdigit()])\n",
    "    return no_digits\n",
    "\n",
    "df['Review'] = df['Review'].apply(clean_data)\n",
    "\n",
    "# Simple rule-based sarcasm detection\n",
    "def detect_sarcasm(review):\n",
    "    # Check for the presence of certain sarcastic markers (e.g., \"not\")\n",
    "    if \"not\" in review:\n",
    "        return 1  # sarcasm detected\n",
    "    else:\n",
    "        return 0  # no sarcasm detected\n",
    "\n",
    "df['Sarcasm'] = df['Review'].apply(detect_sarcasm)\n",
    "\n",
    "# Combine the cleaned text and sarcasm features\n",
    "df['TextWithSarcasm'] = df['Review'] + df['Sarcasm'].astype(str)\n",
    "\n",
    "# TF-IDF Vectorization\n",
    "tfidf = TfidfVectorizer(strip_accents=None, lowercase=False, preprocessor=None)\n",
    "X = tfidf.fit_transform(df['TextWithSarcasm'])\n",
    "y = df['Sentiment']\n",
    "\n",
    "# Train-Test Split\n",
    "X_train, X_test, y_train, y_test = train_test_split(X, y, test_size=0.2, random_state=42)\n",
    "\n",
    "# Logistic Regression Model\n",
    "lr = LogisticRegression(solver='liblinear')\n",
    "lr.fit(X_train, y_train)\n",
    "\n",
    "# Predictions and Accuracy Calculation\n",
    "preds = lr.predict(X_test)\n",
    "accuracy = accuracy_score(preds, y_test)\n",
    "print(\"Accuracy:\", accuracy)\n",
    "\n",
    "# Example new input text\n",
    "#new_input_text = \"i am not young enough to know every\"\n",
    "new_input_text = \"Amazing experience\"\n",
    "\n",
    "# Clean the input text\n",
    "cleaned_text = clean_data(new_input_text)\n",
    "\n",
    "# Transform the cleaned text into TF-IDF features\n",
    "new_text_features = tfidf.transform([cleaned_text])\n",
    "\n",
    "# Make predictions\n",
    "new_pred = lr.predict(new_text_features)\n",
    "\n",
    "# Print the predicted sentiment\n",
    "print(\"Predicted Sentiment:\", new_pred[0])\n"
   ]
  },
  {
   "cell_type": "code",
   "execution_count": null,
   "id": "de725e21",
   "metadata": {},
   "outputs": [],
   "source": []
  }
 ],
 "metadata": {
  "kernelspec": {
   "display_name": "Python 3 (ipykernel)",
   "language": "python",
   "name": "python3"
  },
  "language_info": {
   "codemirror_mode": {
    "name": "ipython",
    "version": 3
   },
   "file_extension": ".py",
   "mimetype": "text/x-python",
   "name": "python",
   "nbconvert_exporter": "python",
   "pygments_lexer": "ipython3",
   "version": "3.11.5"
  }
 },
 "nbformat": 4,
 "nbformat_minor": 5
}
